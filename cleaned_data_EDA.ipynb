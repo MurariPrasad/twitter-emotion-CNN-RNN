{
 "cells": [
  {
   "metadata": {},
   "cell_type": "markdown",
   "source": "### This File has few quick EDA steps taken to gauge the data after the usual Text Cleaning methods.",
   "id": "40b1e39ef4c458be"
  },
  {
   "metadata": {
    "ExecuteTime": {
     "end_time": "2025-04-29T23:27:42.239946Z",
     "start_time": "2025-04-29T23:27:42.046681Z"
    }
   },
   "cell_type": "code",
   "source": [
    "import pandas as pd\n",
    "import gdown"
   ],
   "id": "6130ebee99557d10",
   "outputs": [],
   "execution_count": 1
  },
  {
   "metadata": {
    "ExecuteTime": {
     "end_time": "2025-04-29T23:27:43.600824Z",
     "start_time": "2025-04-29T23:27:42.302550Z"
    }
   },
   "cell_type": "code",
   "source": [
    "try:\n",
    "    dataset = pd.read_parquet(\"basic_cleaned.parquet\")\n",
    "except FileNotFoundError:\n",
    "    # download backup from google drive\n",
    "    url = \"https://drive.google.com/file/d/1dCDlSNPUvnD0Z69ajIiusePUAO5_PROo/view?usp=sharing\"\n",
    "    gdown.download(url=url, output=\"basic_cleaned.parquet\", fuzzy=True)\n",
    "    dataset = pd.read_parquet(\"basic_cleaned.parquet\")"
   ],
   "id": "8829b30f4dd1577",
   "outputs": [],
   "execution_count": 2
  },
  {
   "metadata": {},
   "cell_type": "markdown",
   "source": "Checking the Distribution of the Target Variable Classes",
   "id": "d6d9e65ab84dffbb"
  },
  {
   "metadata": {
    "ExecuteTime": {
     "end_time": "2025-04-29T23:28:24.153570Z",
     "start_time": "2025-04-29T23:28:24.127578Z"
    }
   },
   "cell_type": "code",
   "source": "dataset['Emotion'].value_counts()",
   "id": "7679b990649958e0",
   "outputs": [
    {
     "data": {
      "text/plain": [
       "Emotion\n",
       "disappointed    312501\n",
       "happy           301704\n",
       "angry           299468\n",
       "Name: count, dtype: int64"
      ]
     },
     "execution_count": 5,
     "metadata": {},
     "output_type": "execute_result"
    }
   ],
   "execution_count": 5
  },
  {
   "metadata": {
    "ExecuteTime": {
     "end_time": "2025-04-29T23:28:22.572748Z",
     "start_time": "2025-04-29T23:28:22.548146Z"
    }
   },
   "cell_type": "code",
   "source": [
    "# Split in %\n",
    "dataset['Emotion'].value_counts()/len(dataset) * 100"
   ],
   "id": "40584affc4047f10",
   "outputs": [
    {
     "data": {
      "text/plain": [
       "Emotion\n",
       "disappointed    34.202718\n",
       "happy           33.021004\n",
       "angry           32.776278\n",
       "Name: count, dtype: float64"
      ]
     },
     "execution_count": 4,
     "metadata": {},
     "output_type": "execute_result"
    }
   ],
   "execution_count": 4
  },
  {
   "metadata": {},
   "cell_type": "markdown",
   "source": "Checking the number of words distribution",
   "id": "c32723de8c4343be"
  },
  {
   "metadata": {
    "ExecuteTime": {
     "end_time": "2025-04-27T19:35:05.385079Z",
     "start_time": "2025-04-27T19:35:05.024678Z"
    }
   },
   "cell_type": "code",
   "source": "dataset['total_words'] = [len(x.split()) for x in dataset['cleaned_text'].tolist()]",
   "id": "b54e00fee6a6540c",
   "outputs": [],
   "execution_count": 4
  },
  {
   "metadata": {
    "ExecuteTime": {
     "end_time": "2025-04-27T19:35:21.080586Z",
     "start_time": "2025-04-27T19:35:21.061547Z"
    }
   },
   "cell_type": "code",
   "source": "dataset['total_words'].describe()",
   "id": "2ad1e45097f01993",
   "outputs": [
    {
     "data": {
      "text/plain": [
       "count    913673.000000\n",
       "mean          7.590583\n",
       "std           4.980971\n",
       "min           1.000000\n",
       "25%           4.000000\n",
       "50%           7.000000\n",
       "75%          10.000000\n",
       "max         119.000000\n",
       "Name: total_words, dtype: float64"
      ]
     },
     "execution_count": 6,
     "metadata": {},
     "output_type": "execute_result"
    }
   ],
   "execution_count": 6
  },
  {
   "metadata": {
    "ExecuteTime": {
     "end_time": "2025-04-27T19:35:05.571247Z",
     "start_time": "2025-04-27T19:35:05.554203Z"
    }
   },
   "cell_type": "code",
   "source": "dataset['total_words'].quantile([0.25, 0.5, 0.75, 0.9, 0.95, 0.99])",
   "id": "670ba5ba5156e0b8",
   "outputs": [
    {
     "data": {
      "text/plain": [
       "0.25     4.0\n",
       "0.50     7.0\n",
       "0.75    10.0\n",
       "0.90    14.0\n",
       "0.95    17.0\n",
       "0.99    23.0\n",
       "Name: total_words, dtype: float64"
      ]
     },
     "execution_count": 5,
     "metadata": {},
     "output_type": "execute_result"
    }
   ],
   "execution_count": 5
  },
  {
   "metadata": {},
   "cell_type": "markdown",
   "source": [
    "90% of records are under 14 words, so when creating the embedded dataset,\n",
    "\n",
    "the records are truncated at 14 if len(record) > 14 else padded with np.zeroes if len(record) < 14"
   ],
   "id": "e03cd5a0421e03cc"
  },
  {
   "metadata": {
    "ExecuteTime": {
     "end_time": "2025-04-27T19:35:05.790497Z",
     "start_time": "2025-04-27T19:35:05.788986Z"
    }
   },
   "cell_type": "code",
   "source": "",
   "id": "4475d717f86b1e3e",
   "outputs": [],
   "execution_count": null
  }
 ],
 "metadata": {
  "kernelspec": {
   "display_name": "Python 3",
   "language": "python",
   "name": "python3"
  },
  "language_info": {
   "codemirror_mode": {
    "name": "ipython",
    "version": 2
   },
   "file_extension": ".py",
   "mimetype": "text/x-python",
   "name": "python",
   "nbconvert_exporter": "python",
   "pygments_lexer": "ipython2",
   "version": "2.7.6"
  }
 },
 "nbformat": 4,
 "nbformat_minor": 5
}
