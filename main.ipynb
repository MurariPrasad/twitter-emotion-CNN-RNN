{
 "cells": [
  {
   "metadata": {},
   "cell_type": "markdown",
   "source": [
    "# Deep Learning Project - Text Classification using CNN and RNN networks\n",
    "## Text Classification on Twitter Emotion Dataset.\n",
    "Name: Murari Prasad\n",
    "\n",
    "Student ID: 24200412\n",
    "- Using simple pattern learning network CNN\n",
    "- Then trying sequence based using Bi-Directional RNN"
   ],
   "id": "7646605dcd3bf0da"
  },
  {
   "cell_type": "code",
   "id": "initial_id",
   "metadata": {
    "collapsed": true,
    "ExecuteTime": {
     "end_time": "2025-04-30T14:18:32.685324Z",
     "start_time": "2025-04-30T14:18:27.342325Z"
    }
   },
   "source": [
    "import pandas as pd\n",
    "from sklearn.model_selection import train_test_split\n",
    "\n",
    "import tensorflow as tf\n",
    "import keras_tuner as ktuner\n",
    "\n",
    "import evalulation_functions as eval_functions  # Custom module with utility functions"
   ],
   "outputs": [
    {
     "name": "stderr",
     "output_type": "stream",
     "text": [
      "2025-04-30 15:18:29.240729: I tensorflow/core/util/port.cc:153] oneDNN custom operations are on. You may see slightly different numerical results due to floating-point round-off errors from different computation orders. To turn them off, set the environment variable `TF_ENABLE_ONEDNN_OPTS=0`.\n",
      "2025-04-30 15:18:29.539387: E external/local_xla/xla/stream_executor/cuda/cuda_fft.cc:477] Unable to register cuFFT factory: Attempting to register factory for plugin cuFFT when one has already been registered\n",
      "WARNING: All log messages before absl::InitializeLog() is called are written to STDERR\n",
      "E0000 00:00:1746022709.640460   15164 cuda_dnn.cc:8310] Unable to register cuDNN factory: Attempting to register factory for plugin cuDNN when one has already been registered\n",
      "E0000 00:00:1746022709.672001   15164 cuda_blas.cc:1418] Unable to register cuBLAS factory: Attempting to register factory for plugin cuBLAS when one has already been registered\n",
      "2025-04-30 15:18:29.936102: I tensorflow/core/platform/cpu_feature_guard.cc:210] This TensorFlow binary is optimized to use available CPU instructions in performance-critical operations.\n",
      "To enable the following instructions: AVX2 AVX512F AVX512_VNNI AVX512_BF16 FMA, in other operations, rebuild TensorFlow with the appropriate compiler flags.\n"
     ]
    }
   ],
   "execution_count": 1
  },
  {
   "metadata": {
    "ExecuteTime": {
     "end_time": "2025-04-30T14:18:33.211044Z",
     "start_time": "2025-04-30T14:18:32.753420Z"
    }
   },
   "cell_type": "code",
   "source": [
    "# Check for GPU and apply memory usage optimizations\n",
    "gpu_devices = tf.config.experimental.list_physical_devices('GPU')\n",
    "if len(gpu_devices) > 0:\n",
    "    print(\"GPU available\")\n",
    "\n",
    "    # Set memory growth TRUE to allow dynamic memory allocation instead of pre-allocating GPU VRAM\n",
    "    tf.config.experimental.set_memory_growth(gpu_devices[0], True)\n",
    "else:\n",
    "    print(\"No GPU\")"
   ],
   "id": "3b3bee553850c3ec",
   "outputs": [
    {
     "name": "stdout",
     "output_type": "stream",
     "text": [
      "GPU available\n"
     ]
    }
   ],
   "execution_count": 2
  },
  {
   "metadata": {
    "ExecuteTime": {
     "end_time": "2025-04-30T14:18:33.224722Z",
     "start_time": "2025-04-30T14:18:33.222951Z"
    }
   },
   "cell_type": "code",
   "source": [
    "# Few constants\n",
    "RANDOM_SEED = 2025\n",
    "BATCH_SIZE = 256\n",
    "MAX_TOKENS = 14  # words beyond this are being ignored, 90% data under 14 tokens (EDA file)"
   ],
   "id": "e034cc7d81cc98f3",
   "outputs": [],
   "execution_count": 3
  },
  {
   "metadata": {
    "ExecuteTime": {
     "end_time": "2025-04-30T14:18:59.276511Z",
     "start_time": "2025-04-30T14:18:33.275386Z"
    }
   },
   "cell_type": "code",
   "source": [
    "# Reading processed dataset - generated using data_handler.py\n",
    "try:\n",
    "    dataset = pd.read_parquet('glove-25-embedded-14token_0.parquet')\n",
    "except:\n",
    "    # download backup from google drive\n",
    "    import gdown\n",
    "    url = \"https://drive.google.com/file/d/14sOdqE2tl_eXYR8Rj7Emn3mpNBY8Z0AL/view?usp=sharing\"\n",
    "    gdown.download(url, 'glove-25-embedded-14token_0.parquet', fuzzy=True)\n",
    "    dataset = pd.read_parquet('glove-25-embedded-14token_0.parquet')"
   ],
   "id": "73d5c7886ba675d9",
   "outputs": [
    {
     "name": "stderr",
     "output_type": "stream",
     "text": [
      "Downloading...\n",
      "From (original): https://drive.google.com/uc?id=14sOdqE2tl_eXYR8Rj7Emn3mpNBY8Z0AL\n",
      "From (redirected): https://drive.google.com/uc?id=14sOdqE2tl_eXYR8Rj7Emn3mpNBY8Z0AL&confirm=t&uuid=0da72436-59af-4cae-aabf-1dcc38120c53\n",
      "To: /home/murarip/masters/deep_learning/projectFiles/project/glove-25-embedded-14token_0.parquet\n",
      "100%|██████████| 904M/904M [00:12<00:00, 74.9MB/s] \n"
     ]
    }
   ],
   "execution_count": 4
  },
  {
   "metadata": {
    "ExecuteTime": {
     "end_time": "2025-04-30T14:18:59.458883Z",
     "start_time": "2025-04-30T14:18:59.294866Z"
    }
   },
   "cell_type": "code",
   "source": [
    "# Changing target variable from strings to integers\n",
    "dataset['Emotion'] = dataset['Emotion'].replace({'disappointed': 0, 'happy': 1, 'angry': 2})"
   ],
   "id": "2a7bdffa42a737d9",
   "outputs": [
    {
     "name": "stderr",
     "output_type": "stream",
     "text": [
      "/tmp/ipykernel_15164/2059260980.py:2: FutureWarning: Downcasting behavior in `replace` is deprecated and will be removed in a future version. To retain the old behavior, explicitly call `result.infer_objects(copy=False)`. To opt-in to the future behavior, set `pd.set_option('future.no_silent_downcasting', True)`\n",
      "  dataset['Emotion'] = dataset['Emotion'].replace({'disappointed': 0, 'happy': 1, 'angry': 2})\n"
     ]
    }
   ],
   "execution_count": 5
  },
  {
   "metadata": {
    "ExecuteTime": {
     "end_time": "2025-04-30T14:18:59.812771Z",
     "start_time": "2025-04-30T14:18:59.470945Z"
    }
   },
   "cell_type": "code",
   "source": [
    "# Train-Validation-Test Split using Stratified Random Sampling\n",
    "pd_train, pd_test = train_test_split(dataset, test_size=0.2, random_state=RANDOM_SEED, stratify=dataset['Emotion'], shuffle=True)\n",
    "pd_train, pd_val = train_test_split(pd_train, test_size=0.1, random_state=RANDOM_SEED, stratify=pd_train['Emotion'], shuffle=True)"
   ],
   "id": "cc40e9f79538c899",
   "outputs": [],
   "execution_count": 6
  },
  {
   "metadata": {
    "ExecuteTime": {
     "end_time": "2025-04-30T14:19:13.906424Z",
     "start_time": "2025-04-30T14:18:59.828200Z"
    }
   },
   "cell_type": "code",
   "source": [
    "# Creating Tensors of the data\n",
    "tf_train = tf.convert_to_tensor(pd_train['embedded_vector'].tolist(), dtype='float16')\n",
    "tf_train_labels = tf.convert_to_tensor(pd_train['Emotion'])\n",
    "\n",
    "tf_val = tf.convert_to_tensor(pd_val['embedded_vector'].tolist(), dtype='float16')\n",
    "tf_val_labels = tf.convert_to_tensor(pd_val['Emotion'])\n",
    "\n",
    "tf_test = tf.convert_to_tensor(pd_test['embedded_vector'].tolist(), dtype='float16')\n",
    "tf_test_labels = tf.convert_to_tensor(pd_test['Emotion'])"
   ],
   "id": "6a1697dda39c75a0",
   "outputs": [
    {
     "name": "stderr",
     "output_type": "stream",
     "text": [
      "I0000 00:00:1746022740.091267   15164 gpu_device.cc:2022] Created device /job:localhost/replica:0/task:0/device:GPU:0 with 6292 MB memory:  -> device: 0, name: NVIDIA GeForce RTX 4060 Laptop GPU, pci bus id: 0000:01:00.0, compute capability: 8.9\n",
      "2025-04-30 15:19:09.927686: E tensorflow/core/util/util.cc:131] oneDNN supports DT_HALF only on platforms with AVX-512. Falling back to the default Eigen-based implementation if present.\n"
     ]
    }
   ],
   "execution_count": 7
  },
  {
   "metadata": {
    "ExecuteTime": {
     "end_time": "2025-04-30T14:19:14.151017Z",
     "start_time": "2025-04-30T14:19:14.138127Z"
    }
   },
   "cell_type": "code",
   "source": [
    "# Create Tensorflow datasets and apply batching\n",
    "raw_train = tf.data.Dataset.from_tensor_slices((tf_train, tf_train_labels))\n",
    "raw_val = tf.data.Dataset.from_tensor_slices((tf_val, tf_val_labels))\n",
    "raw_test = tf.data.Dataset.from_tensor_slices((tf_test, tf_test_labels))\n",
    "\n",
    "train = raw_train.batch(BATCH_SIZE)\n",
    "val = raw_val.batch(BATCH_SIZE)\n",
    "test = raw_test.batch(BATCH_SIZE)\n"
   ],
   "id": "4522fc42be1c455c",
   "outputs": [],
   "execution_count": 8
  },
  {
   "metadata": {
    "ExecuteTime": {
     "end_time": "2025-04-30T14:19:14.370890Z",
     "start_time": "2025-04-30T14:19:14.202683Z"
    }
   },
   "cell_type": "code",
   "source": [
    "first_text_batch, first_label_batch = next(iter(train))\n",
    "first_text = first_text_batch[0]\n",
    "print(\"Record shape\", first_text.shape)\n",
    "print(\"Batch shape\", first_text_batch.shape)"
   ],
   "id": "3516a9e4cdce3e3",
   "outputs": [
    {
     "name": "stdout",
     "output_type": "stream",
     "text": [
      "Record shape (14, 25)\n",
      "Batch shape (256, 14, 25)\n"
     ]
    }
   ],
   "execution_count": 9
  },
  {
   "metadata": {
    "ExecuteTime": {
     "end_time": "2025-04-30T14:19:14.402151Z",
     "start_time": "2025-04-30T14:19:14.392244Z"
    }
   },
   "cell_type": "code",
   "source": [
    "# Pre-fetching data and caching for faster training\n",
    "train = train.cache().prefetch(buffer_size=tf.data.AUTOTUNE)\n",
    "val = val.cache().prefetch(buffer_size=tf.data.AUTOTUNE)\n",
    "test = test.cache().prefetch(buffer_size=tf.data.AUTOTUNE)"
   ],
   "id": "242013a525cf76eb",
   "outputs": [],
   "execution_count": 10
  },
  {
   "metadata": {},
   "cell_type": "markdown",
   "source": "#### 1. CNN Model Building",
   "id": "e7503559d66979e4"
  },
  {
   "metadata": {
    "ExecuteTime": {
     "end_time": "2025-04-30T14:19:14.459655Z",
     "start_time": "2025-04-30T14:19:14.454635Z"
    }
   },
   "cell_type": "code",
   "source": [
    "def build_cnn_model(hp):\n",
    "    \"\"\"\n",
    "    NOTE: Some prelimnary trials were run for the choice of the parameter space used here.\n",
    "\n",
    "    :param hp: HyperParameters instance\n",
    "    :return: Compiled Keras model\n",
    "    \"\"\"\n",
    "    # Hyperparameters\n",
    "    hp_learning_rate = hp.Choice(\"learning_rate\", values=[0.01, 0.001, 0.0001])\n",
    "    activation = hp.Choice('activation', values=['gelu', 'swish', 'elu'])\n",
    "    dropout_rate = hp.Choice(\"dropout_rate\", values=[0.1, 0.2, 0.3])\n",
    "    padding = hp.Choice('padding', values=['valid', 'same'])\n",
    "\n",
    "    # filter size options (kernel_size)\n",
    "    kernel_sizes = hp.Choice('kernel_sizes', values=[\"2,3,4\", \"3,4,5\", \"4,5,6\"])\n",
    "    kernel_sizes = [int(x) for x in kernel_sizes.split(',')]\n",
    "\n",
    "    # Input layer\n",
    "    inputs = tf.keras.Input(shape=(MAX_TOKENS, 25))\n",
    "\n",
    "    # Conv1D Layers\n",
    "    x_0 = tf.keras.layers.Conv1D(\n",
    "        filters=hp.Int(\"filters_0\", min_value=64, max_value=1024, step=32),\n",
    "        kernel_size=kernel_sizes[0],\n",
    "        strides=hp.Int(\"strides_0\", min_value=1, max_value=3, step=1),\n",
    "        activation=activation,\n",
    "        padding=padding\n",
    "    )(inputs)\n",
    "    x_1 = tf.keras.layers.Conv1D(\n",
    "        filters=hp.Int(\"filters_1\", min_value=64, max_value=1024, step=32),\n",
    "        kernel_size=kernel_sizes[1],\n",
    "        strides=hp.Int(\"strides_1\", min_value=1, max_value=3, step=1),\n",
    "        activation=activation,\n",
    "        padding=padding\n",
    "    )(inputs)\n",
    "    x_2 = tf.keras.layers.Conv1D(\n",
    "        filters=hp.Int(\"filters_2\", min_value=64, max_value=1024, step=32),\n",
    "        kernel_size=kernel_sizes[2],\n",
    "        strides=hp.Int(\"strides_2\", min_value=1, max_value=3, step=1),\n",
    "        activation=activation,\n",
    "        padding=padding\n",
    "    )(inputs)\n",
    "\n",
    "    # MaxPool, same as kernel size\n",
    "    x_0 = tf.keras.layers.MaxPooling1D(pool_size=kernel_sizes[0])(x_0)\n",
    "    x_1 = tf.keras.layers.MaxPooling1D(pool_size=kernel_sizes[1])(x_1)\n",
    "    x_2 = tf.keras.layers.MaxPooling1D(pool_size=kernel_sizes[2])(x_2)\n",
    "    # Flatten\n",
    "    x_0 = tf.keras.layers.Flatten()(x_0)\n",
    "    x_1 = tf.keras.layers.Flatten()(x_1)\n",
    "    x_2 = tf.keras.layers.Flatten()(x_2)\n",
    "\n",
    "    # Concatenate\n",
    "    x = tf.keras.layers.Concatenate()([x_0, x_1, x_2])\n",
    "    x = tf.keras.layers.Dropout(rate=dropout_rate)(x)\n",
    "\n",
    "    # Output Layer\n",
    "    outputs = tf.keras.layers.Dense(3, activation=\"softmax\")(x)\n",
    "\n",
    "    # Build & Compile model\n",
    "    hp_model = tf.keras.Model(inputs=inputs, outputs=outputs)\n",
    "    hp_model.compile(\n",
    "        optimizer=tf.keras.optimizers.Adam(learning_rate=hp_learning_rate),\n",
    "        loss=tf.keras.losses.SparseCategoricalCrossentropy(),\n",
    "        metrics=[\"accuracy\"]\n",
    "    )\n",
    "\n",
    "    return hp_model"
   ],
   "id": "9eaa8acd8ad3150a",
   "outputs": [],
   "execution_count": 11
  },
  {
   "metadata": {
    "ExecuteTime": {
     "end_time": "2025-04-30T14:19:14.529718Z",
     "start_time": "2025-04-30T14:19:14.517058Z"
    }
   },
   "cell_type": "code",
   "source": [
    "# A Callback to stop tuner early if validation loss is not improving. Revert to the best val_loss weights when we stop.\n",
    "# Separate for training, want more patience\n",
    "\n",
    "# Tuner also needs the best weight restoration, because we train a few epochs and then we reject\n",
    "# few models in Hyperband, so when we resume the next round, resuming from the best weights should be better overall\\\n",
    "stop_early_tuner = tf.keras.callbacks.EarlyStopping(monitor='val_loss', patience=3, restore_best_weights=True)\n",
    "stop_early = tf.keras.callbacks.EarlyStopping(monitor='val_loss', patience=10, restore_best_weights=True)"
   ],
   "id": "f83d22f4c356337c",
   "outputs": [],
   "execution_count": 12
  },
  {
   "metadata": {
    "ExecuteTime": {
     "end_time": "2025-04-30T14:19:14.923378Z",
     "start_time": "2025-04-30T14:19:14.578858Z"
    }
   },
   "cell_type": "code",
   "source": [
    "# Initialize Keras Tuner using Hyperband algorithm\n",
    "# Delete old project from kerasTuner directory, or give new name, else tuner continues from last state\n",
    "cnn_model_tuner = ktuner.Hyperband(\n",
    "    build_cnn_model,\n",
    "    objective=ktuner.Objective(name='val_accuracy', direction='max'),\n",
    "    max_epochs=25,\n",
    "    factor=3,                  # Reduction factor (no of models to drop and after how many epochs)\n",
    "    directory='kerasTuner',\n",
    "    project_name=f'CNN_approach',\n",
    "    seed=RANDOM_SEED,\n",
    ")"
   ],
   "id": "141675486bc8d4c4",
   "outputs": [],
   "execution_count": 13
  },
  {
   "metadata": {},
   "cell_type": "code",
   "source": [
    "# Start tuner\n",
    "cnn_model_tuner.search(train, validation_data=val, callbacks=[stop_early_tuner])"
   ],
   "id": "5a68bd4c8f3640e0",
   "execution_count": 14,
   "outputs": [
    {
     "name": "stdout",
     "output_type": "stream",
     "text": [
      "Trial 22 Complete [00h 01m 26s]\n",
      "val_accuracy: 0.6339508295059204\n",
      "\n",
      "Best val_accuracy So Far: 0.6810271739959717\n",
      "Total elapsed time: 00h 07m 41s\n"
     ]
    }
   ]
  },
  {
   "metadata": {
    "ExecuteTime": {
     "end_time": "2025-04-30T14:26:56.524671Z",
     "start_time": "2025-04-30T14:26:55.888811Z"
    }
   },
   "cell_type": "code",
   "source": [
    "# Let's see the network configuration obtained\n",
    "cnn_model_tuner.get_best_models()[0].summary()"
   ],
   "id": "331574faf3b4d6ed",
   "outputs": [
    {
     "name": "stderr",
     "output_type": "stream",
     "text": [
      "/home/murarip/miniconda3/envs/dl_project/lib/python3.10/site-packages/keras/src/saving/saving_lib.py:757: UserWarning: Skipping variable loading for optimizer 'adam', because it has 2 variables whereas the saved optimizer has 18 variables. \n",
      "  saveable.load_own_variables(weights_store.get(inner_path))\n"
     ]
    },
    {
     "data": {
      "text/plain": [
       "\u001B[1mModel: \"functional\"\u001B[0m\n"
      ],
      "text/html": [
       "<pre style=\"white-space:pre;overflow-x:auto;line-height:normal;font-family:Menlo,'DejaVu Sans Mono',consolas,'Courier New',monospace\"><span style=\"font-weight: bold\">Model: \"functional\"</span>\n",
       "</pre>\n"
      ]
     },
     "metadata": {},
     "output_type": "display_data"
    },
    {
     "data": {
      "text/plain": [
       "┏━━━━━━━━━━━━━━━━━━━━━┳━━━━━━━━━━━━━━━━━━━┳━━━━━━━━━━━━┳━━━━━━━━━━━━━━━━━━━┓\n",
       "┃\u001B[1m \u001B[0m\u001B[1mLayer (type)       \u001B[0m\u001B[1m \u001B[0m┃\u001B[1m \u001B[0m\u001B[1mOutput Shape     \u001B[0m\u001B[1m \u001B[0m┃\u001B[1m \u001B[0m\u001B[1m   Param #\u001B[0m\u001B[1m \u001B[0m┃\u001B[1m \u001B[0m\u001B[1mConnected to     \u001B[0m\u001B[1m \u001B[0m┃\n",
       "┡━━━━━━━━━━━━━━━━━━━━━╇━━━━━━━━━━━━━━━━━━━╇━━━━━━━━━━━━╇━━━━━━━━━━━━━━━━━━━┩\n",
       "│ input_layer         │ (\u001B[38;5;45mNone\u001B[0m, \u001B[38;5;34m14\u001B[0m, \u001B[38;5;34m25\u001B[0m)    │          \u001B[38;5;34m0\u001B[0m │ -                 │\n",
       "│ (\u001B[38;5;33mInputLayer\u001B[0m)        │                   │            │                   │\n",
       "├─────────────────────┼───────────────────┼────────────┼───────────────────┤\n",
       "│ conv1d (\u001B[38;5;33mConv1D\u001B[0m)     │ (\u001B[38;5;45mNone\u001B[0m, \u001B[38;5;34m4\u001B[0m, \u001B[38;5;34m96\u001B[0m)     │      \u001B[38;5;34m7,296\u001B[0m │ input_layer[\u001B[38;5;34m0\u001B[0m][\u001B[38;5;34m0\u001B[0m] │\n",
       "├─────────────────────┼───────────────────┼────────────┼───────────────────┤\n",
       "│ conv1d_1 (\u001B[38;5;33mConv1D\u001B[0m)   │ (\u001B[38;5;45mNone\u001B[0m, \u001B[38;5;34m11\u001B[0m, \u001B[38;5;34m160\u001B[0m)   │     \u001B[38;5;34m16,160\u001B[0m │ input_layer[\u001B[38;5;34m0\u001B[0m][\u001B[38;5;34m0\u001B[0m] │\n",
       "├─────────────────────┼───────────────────┼────────────┼───────────────────┤\n",
       "│ conv1d_2 (\u001B[38;5;33mConv1D\u001B[0m)   │ (\u001B[38;5;45mNone\u001B[0m, \u001B[38;5;34m10\u001B[0m, \u001B[38;5;34m832\u001B[0m)   │    \u001B[38;5;34m104,832\u001B[0m │ input_layer[\u001B[38;5;34m0\u001B[0m][\u001B[38;5;34m0\u001B[0m] │\n",
       "├─────────────────────┼───────────────────┼────────────┼───────────────────┤\n",
       "│ max_pooling1d       │ (\u001B[38;5;45mNone\u001B[0m, \u001B[38;5;34m1\u001B[0m, \u001B[38;5;34m96\u001B[0m)     │          \u001B[38;5;34m0\u001B[0m │ conv1d[\u001B[38;5;34m0\u001B[0m][\u001B[38;5;34m0\u001B[0m]      │\n",
       "│ (\u001B[38;5;33mMaxPooling1D\u001B[0m)      │                   │            │                   │\n",
       "├─────────────────────┼───────────────────┼────────────┼───────────────────┤\n",
       "│ max_pooling1d_1     │ (\u001B[38;5;45mNone\u001B[0m, \u001B[38;5;34m2\u001B[0m, \u001B[38;5;34m160\u001B[0m)    │          \u001B[38;5;34m0\u001B[0m │ conv1d_1[\u001B[38;5;34m0\u001B[0m][\u001B[38;5;34m0\u001B[0m]    │\n",
       "│ (\u001B[38;5;33mMaxPooling1D\u001B[0m)      │                   │            │                   │\n",
       "├─────────────────────┼───────────────────┼────────────┼───────────────────┤\n",
       "│ max_pooling1d_2     │ (\u001B[38;5;45mNone\u001B[0m, \u001B[38;5;34m2\u001B[0m, \u001B[38;5;34m832\u001B[0m)    │          \u001B[38;5;34m0\u001B[0m │ conv1d_2[\u001B[38;5;34m0\u001B[0m][\u001B[38;5;34m0\u001B[0m]    │\n",
       "│ (\u001B[38;5;33mMaxPooling1D\u001B[0m)      │                   │            │                   │\n",
       "├─────────────────────┼───────────────────┼────────────┼───────────────────┤\n",
       "│ flatten (\u001B[38;5;33mFlatten\u001B[0m)   │ (\u001B[38;5;45mNone\u001B[0m, \u001B[38;5;34m96\u001B[0m)        │          \u001B[38;5;34m0\u001B[0m │ max_pooling1d[\u001B[38;5;34m0\u001B[0m]… │\n",
       "├─────────────────────┼───────────────────┼────────────┼───────────────────┤\n",
       "│ flatten_1 (\u001B[38;5;33mFlatten\u001B[0m) │ (\u001B[38;5;45mNone\u001B[0m, \u001B[38;5;34m320\u001B[0m)       │          \u001B[38;5;34m0\u001B[0m │ max_pooling1d_1[\u001B[38;5;34m…\u001B[0m │\n",
       "├─────────────────────┼───────────────────┼────────────┼───────────────────┤\n",
       "│ flatten_2 (\u001B[38;5;33mFlatten\u001B[0m) │ (\u001B[38;5;45mNone\u001B[0m, \u001B[38;5;34m1664\u001B[0m)      │          \u001B[38;5;34m0\u001B[0m │ max_pooling1d_2[\u001B[38;5;34m…\u001B[0m │\n",
       "├─────────────────────┼───────────────────┼────────────┼───────────────────┤\n",
       "│ concatenate         │ (\u001B[38;5;45mNone\u001B[0m, \u001B[38;5;34m2080\u001B[0m)      │          \u001B[38;5;34m0\u001B[0m │ flatten[\u001B[38;5;34m0\u001B[0m][\u001B[38;5;34m0\u001B[0m],    │\n",
       "│ (\u001B[38;5;33mConcatenate\u001B[0m)       │                   │            │ flatten_1[\u001B[38;5;34m0\u001B[0m][\u001B[38;5;34m0\u001B[0m],  │\n",
       "│                     │                   │            │ flatten_2[\u001B[38;5;34m0\u001B[0m][\u001B[38;5;34m0\u001B[0m]   │\n",
       "├─────────────────────┼───────────────────┼────────────┼───────────────────┤\n",
       "│ dropout (\u001B[38;5;33mDropout\u001B[0m)   │ (\u001B[38;5;45mNone\u001B[0m, \u001B[38;5;34m2080\u001B[0m)      │          \u001B[38;5;34m0\u001B[0m │ concatenate[\u001B[38;5;34m0\u001B[0m][\u001B[38;5;34m0\u001B[0m] │\n",
       "├─────────────────────┼───────────────────┼────────────┼───────────────────┤\n",
       "│ dense (\u001B[38;5;33mDense\u001B[0m)       │ (\u001B[38;5;45mNone\u001B[0m, \u001B[38;5;34m3\u001B[0m)         │      \u001B[38;5;34m6,243\u001B[0m │ dropout[\u001B[38;5;34m0\u001B[0m][\u001B[38;5;34m0\u001B[0m]     │\n",
       "└─────────────────────┴───────────────────┴────────────┴───────────────────┘\n"
      ],
      "text/html": [
       "<pre style=\"white-space:pre;overflow-x:auto;line-height:normal;font-family:Menlo,'DejaVu Sans Mono',consolas,'Courier New',monospace\">┏━━━━━━━━━━━━━━━━━━━━━┳━━━━━━━━━━━━━━━━━━━┳━━━━━━━━━━━━┳━━━━━━━━━━━━━━━━━━━┓\n",
       "┃<span style=\"font-weight: bold\"> Layer (type)        </span>┃<span style=\"font-weight: bold\"> Output Shape      </span>┃<span style=\"font-weight: bold\">    Param # </span>┃<span style=\"font-weight: bold\"> Connected to      </span>┃\n",
       "┡━━━━━━━━━━━━━━━━━━━━━╇━━━━━━━━━━━━━━━━━━━╇━━━━━━━━━━━━╇━━━━━━━━━━━━━━━━━━━┩\n",
       "│ input_layer         │ (<span style=\"color: #00d7ff; text-decoration-color: #00d7ff\">None</span>, <span style=\"color: #00af00; text-decoration-color: #00af00\">14</span>, <span style=\"color: #00af00; text-decoration-color: #00af00\">25</span>)    │          <span style=\"color: #00af00; text-decoration-color: #00af00\">0</span> │ -                 │\n",
       "│ (<span style=\"color: #0087ff; text-decoration-color: #0087ff\">InputLayer</span>)        │                   │            │                   │\n",
       "├─────────────────────┼───────────────────┼────────────┼───────────────────┤\n",
       "│ conv1d (<span style=\"color: #0087ff; text-decoration-color: #0087ff\">Conv1D</span>)     │ (<span style=\"color: #00d7ff; text-decoration-color: #00d7ff\">None</span>, <span style=\"color: #00af00; text-decoration-color: #00af00\">4</span>, <span style=\"color: #00af00; text-decoration-color: #00af00\">96</span>)     │      <span style=\"color: #00af00; text-decoration-color: #00af00\">7,296</span> │ input_layer[<span style=\"color: #00af00; text-decoration-color: #00af00\">0</span>][<span style=\"color: #00af00; text-decoration-color: #00af00\">0</span>] │\n",
       "├─────────────────────┼───────────────────┼────────────┼───────────────────┤\n",
       "│ conv1d_1 (<span style=\"color: #0087ff; text-decoration-color: #0087ff\">Conv1D</span>)   │ (<span style=\"color: #00d7ff; text-decoration-color: #00d7ff\">None</span>, <span style=\"color: #00af00; text-decoration-color: #00af00\">11</span>, <span style=\"color: #00af00; text-decoration-color: #00af00\">160</span>)   │     <span style=\"color: #00af00; text-decoration-color: #00af00\">16,160</span> │ input_layer[<span style=\"color: #00af00; text-decoration-color: #00af00\">0</span>][<span style=\"color: #00af00; text-decoration-color: #00af00\">0</span>] │\n",
       "├─────────────────────┼───────────────────┼────────────┼───────────────────┤\n",
       "│ conv1d_2 (<span style=\"color: #0087ff; text-decoration-color: #0087ff\">Conv1D</span>)   │ (<span style=\"color: #00d7ff; text-decoration-color: #00d7ff\">None</span>, <span style=\"color: #00af00; text-decoration-color: #00af00\">10</span>, <span style=\"color: #00af00; text-decoration-color: #00af00\">832</span>)   │    <span style=\"color: #00af00; text-decoration-color: #00af00\">104,832</span> │ input_layer[<span style=\"color: #00af00; text-decoration-color: #00af00\">0</span>][<span style=\"color: #00af00; text-decoration-color: #00af00\">0</span>] │\n",
       "├─────────────────────┼───────────────────┼────────────┼───────────────────┤\n",
       "│ max_pooling1d       │ (<span style=\"color: #00d7ff; text-decoration-color: #00d7ff\">None</span>, <span style=\"color: #00af00; text-decoration-color: #00af00\">1</span>, <span style=\"color: #00af00; text-decoration-color: #00af00\">96</span>)     │          <span style=\"color: #00af00; text-decoration-color: #00af00\">0</span> │ conv1d[<span style=\"color: #00af00; text-decoration-color: #00af00\">0</span>][<span style=\"color: #00af00; text-decoration-color: #00af00\">0</span>]      │\n",
       "│ (<span style=\"color: #0087ff; text-decoration-color: #0087ff\">MaxPooling1D</span>)      │                   │            │                   │\n",
       "├─────────────────────┼───────────────────┼────────────┼───────────────────┤\n",
       "│ max_pooling1d_1     │ (<span style=\"color: #00d7ff; text-decoration-color: #00d7ff\">None</span>, <span style=\"color: #00af00; text-decoration-color: #00af00\">2</span>, <span style=\"color: #00af00; text-decoration-color: #00af00\">160</span>)    │          <span style=\"color: #00af00; text-decoration-color: #00af00\">0</span> │ conv1d_1[<span style=\"color: #00af00; text-decoration-color: #00af00\">0</span>][<span style=\"color: #00af00; text-decoration-color: #00af00\">0</span>]    │\n",
       "│ (<span style=\"color: #0087ff; text-decoration-color: #0087ff\">MaxPooling1D</span>)      │                   │            │                   │\n",
       "├─────────────────────┼───────────────────┼────────────┼───────────────────┤\n",
       "│ max_pooling1d_2     │ (<span style=\"color: #00d7ff; text-decoration-color: #00d7ff\">None</span>, <span style=\"color: #00af00; text-decoration-color: #00af00\">2</span>, <span style=\"color: #00af00; text-decoration-color: #00af00\">832</span>)    │          <span style=\"color: #00af00; text-decoration-color: #00af00\">0</span> │ conv1d_2[<span style=\"color: #00af00; text-decoration-color: #00af00\">0</span>][<span style=\"color: #00af00; text-decoration-color: #00af00\">0</span>]    │\n",
       "│ (<span style=\"color: #0087ff; text-decoration-color: #0087ff\">MaxPooling1D</span>)      │                   │            │                   │\n",
       "├─────────────────────┼───────────────────┼────────────┼───────────────────┤\n",
       "│ flatten (<span style=\"color: #0087ff; text-decoration-color: #0087ff\">Flatten</span>)   │ (<span style=\"color: #00d7ff; text-decoration-color: #00d7ff\">None</span>, <span style=\"color: #00af00; text-decoration-color: #00af00\">96</span>)        │          <span style=\"color: #00af00; text-decoration-color: #00af00\">0</span> │ max_pooling1d[<span style=\"color: #00af00; text-decoration-color: #00af00\">0</span>]… │\n",
       "├─────────────────────┼───────────────────┼────────────┼───────────────────┤\n",
       "│ flatten_1 (<span style=\"color: #0087ff; text-decoration-color: #0087ff\">Flatten</span>) │ (<span style=\"color: #00d7ff; text-decoration-color: #00d7ff\">None</span>, <span style=\"color: #00af00; text-decoration-color: #00af00\">320</span>)       │          <span style=\"color: #00af00; text-decoration-color: #00af00\">0</span> │ max_pooling1d_1[<span style=\"color: #00af00; text-decoration-color: #00af00\">…</span> │\n",
       "├─────────────────────┼───────────────────┼────────────┼───────────────────┤\n",
       "│ flatten_2 (<span style=\"color: #0087ff; text-decoration-color: #0087ff\">Flatten</span>) │ (<span style=\"color: #00d7ff; text-decoration-color: #00d7ff\">None</span>, <span style=\"color: #00af00; text-decoration-color: #00af00\">1664</span>)      │          <span style=\"color: #00af00; text-decoration-color: #00af00\">0</span> │ max_pooling1d_2[<span style=\"color: #00af00; text-decoration-color: #00af00\">…</span> │\n",
       "├─────────────────────┼───────────────────┼────────────┼───────────────────┤\n",
       "│ concatenate         │ (<span style=\"color: #00d7ff; text-decoration-color: #00d7ff\">None</span>, <span style=\"color: #00af00; text-decoration-color: #00af00\">2080</span>)      │          <span style=\"color: #00af00; text-decoration-color: #00af00\">0</span> │ flatten[<span style=\"color: #00af00; text-decoration-color: #00af00\">0</span>][<span style=\"color: #00af00; text-decoration-color: #00af00\">0</span>],    │\n",
       "│ (<span style=\"color: #0087ff; text-decoration-color: #0087ff\">Concatenate</span>)       │                   │            │ flatten_1[<span style=\"color: #00af00; text-decoration-color: #00af00\">0</span>][<span style=\"color: #00af00; text-decoration-color: #00af00\">0</span>],  │\n",
       "│                     │                   │            │ flatten_2[<span style=\"color: #00af00; text-decoration-color: #00af00\">0</span>][<span style=\"color: #00af00; text-decoration-color: #00af00\">0</span>]   │\n",
       "├─────────────────────┼───────────────────┼────────────┼───────────────────┤\n",
       "│ dropout (<span style=\"color: #0087ff; text-decoration-color: #0087ff\">Dropout</span>)   │ (<span style=\"color: #00d7ff; text-decoration-color: #00d7ff\">None</span>, <span style=\"color: #00af00; text-decoration-color: #00af00\">2080</span>)      │          <span style=\"color: #00af00; text-decoration-color: #00af00\">0</span> │ concatenate[<span style=\"color: #00af00; text-decoration-color: #00af00\">0</span>][<span style=\"color: #00af00; text-decoration-color: #00af00\">0</span>] │\n",
       "├─────────────────────┼───────────────────┼────────────┼───────────────────┤\n",
       "│ dense (<span style=\"color: #0087ff; text-decoration-color: #0087ff\">Dense</span>)       │ (<span style=\"color: #00d7ff; text-decoration-color: #00d7ff\">None</span>, <span style=\"color: #00af00; text-decoration-color: #00af00\">3</span>)         │      <span style=\"color: #00af00; text-decoration-color: #00af00\">6,243</span> │ dropout[<span style=\"color: #00af00; text-decoration-color: #00af00\">0</span>][<span style=\"color: #00af00; text-decoration-color: #00af00\">0</span>]     │\n",
       "└─────────────────────┴───────────────────┴────────────┴───────────────────┘\n",
       "</pre>\n"
      ]
     },
     "metadata": {},
     "output_type": "display_data"
    },
    {
     "data": {
      "text/plain": [
       "\u001B[1m Total params: \u001B[0m\u001B[38;5;34m134,531\u001B[0m (525.51 KB)\n"
      ],
      "text/html": [
       "<pre style=\"white-space:pre;overflow-x:auto;line-height:normal;font-family:Menlo,'DejaVu Sans Mono',consolas,'Courier New',monospace\"><span style=\"font-weight: bold\"> Total params: </span><span style=\"color: #00af00; text-decoration-color: #00af00\">134,531</span> (525.51 KB)\n",
       "</pre>\n"
      ]
     },
     "metadata": {},
     "output_type": "display_data"
    },
    {
     "data": {
      "text/plain": [
       "\u001B[1m Trainable params: \u001B[0m\u001B[38;5;34m134,531\u001B[0m (525.51 KB)\n"
      ],
      "text/html": [
       "<pre style=\"white-space:pre;overflow-x:auto;line-height:normal;font-family:Menlo,'DejaVu Sans Mono',consolas,'Courier New',monospace\"><span style=\"font-weight: bold\"> Trainable params: </span><span style=\"color: #00af00; text-decoration-color: #00af00\">134,531</span> (525.51 KB)\n",
       "</pre>\n"
      ]
     },
     "metadata": {},
     "output_type": "display_data"
    },
    {
     "data": {
      "text/plain": [
       "\u001B[1m Non-trainable params: \u001B[0m\u001B[38;5;34m0\u001B[0m (0.00 B)\n"
      ],
      "text/html": [
       "<pre style=\"white-space:pre;overflow-x:auto;line-height:normal;font-family:Menlo,'DejaVu Sans Mono',consolas,'Courier New',monospace\"><span style=\"font-weight: bold\"> Non-trainable params: </span><span style=\"color: #00af00; text-decoration-color: #00af00\">0</span> (0.00 B)\n",
       "</pre>\n"
      ]
     },
     "metadata": {},
     "output_type": "display_data"
    }
   ],
   "execution_count": 15
  },
  {
   "metadata": {
    "ExecuteTime": {
     "end_time": "2025-04-30T14:26:56.612990Z",
     "start_time": "2025-04-30T14:26:56.608951Z"
    }
   },
   "cell_type": "code",
   "source": [
    "# Let us see all the parameters searched by the tuner\n",
    "cnn_model_best_hps=cnn_model_tuner.get_best_hyperparameters()[0]\n",
    "cnn_model_best_hps.values"
   ],
   "id": "9851d215b5951e6",
   "outputs": [
    {
     "data": {
      "text/plain": [
       "{'learning_rate': 0.001,\n",
       " 'activation': 'gelu',\n",
       " 'dropout_rate': 0.1,\n",
       " 'padding': 'valid',\n",
       " 'kernel_sizes': '3,4,5',\n",
       " 'filters_0': 96,\n",
       " 'strides_0': 3,\n",
       " 'filters_1': 160,\n",
       " 'strides_1': 1,\n",
       " 'filters_2': 832,\n",
       " 'strides_2': 1,\n",
       " 'tuner/epochs': 9,\n",
       " 'tuner/initial_epoch': 0,\n",
       " 'tuner/bracket': 1,\n",
       " 'tuner/round': 0}"
      ]
     },
     "execution_count": 16,
     "metadata": {},
     "output_type": "execute_result"
    }
   ],
   "execution_count": 16
  },
  {
   "metadata": {
    "ExecuteTime": {
     "end_time": "2025-04-30T14:28:21.180657Z",
     "start_time": "2025-04-30T14:26:56.670762Z"
    }
   },
   "cell_type": "code",
   "source": [
    "# Build and train model using the best parameters from the tuner\n",
    "cnn_model = cnn_model_tuner.hypermodel.build(cnn_model_best_hps)\n",
    "cnn_history = cnn_model.fit(train, validation_data=val, epochs=100, callbacks=[stop_early])"
   ],
   "id": "bbb1b197d61e8bf9",
   "outputs": [
    {
     "name": "stdout",
     "output_type": "stream",
     "text": [
      "Epoch 1/100\n",
      "\u001B[1m2570/2570\u001B[0m \u001B[32m━━━━━━━━━━━━━━━━━━━━\u001B[0m\u001B[37m\u001B[0m \u001B[1m7s\u001B[0m 2ms/step - accuracy: 0.5714 - loss: 0.8925 - val_accuracy: 0.6322 - val_loss: 0.7957\n",
      "Epoch 2/100\n",
      "\u001B[1m2570/2570\u001B[0m \u001B[32m━━━━━━━━━━━━━━━━━━━━\u001B[0m\u001B[37m\u001B[0m \u001B[1m5s\u001B[0m 2ms/step - accuracy: 0.6415 - loss: 0.7814 - val_accuracy: 0.6531 - val_loss: 0.7601\n",
      "Epoch 3/100\n",
      "\u001B[1m2570/2570\u001B[0m \u001B[32m━━━━━━━━━━━━━━━━━━━━\u001B[0m\u001B[37m\u001B[0m \u001B[1m5s\u001B[0m 2ms/step - accuracy: 0.6640 - loss: 0.7416 - val_accuracy: 0.6619 - val_loss: 0.7431\n",
      "Epoch 4/100\n",
      "\u001B[1m2570/2570\u001B[0m \u001B[32m━━━━━━━━━━━━━━━━━━━━\u001B[0m\u001B[37m\u001B[0m \u001B[1m5s\u001B[0m 2ms/step - accuracy: 0.6782 - loss: 0.7166 - val_accuracy: 0.6678 - val_loss: 0.7337\n",
      "Epoch 5/100\n",
      "\u001B[1m2570/2570\u001B[0m \u001B[32m━━━━━━━━━━━━━━━━━━━━\u001B[0m\u001B[37m\u001B[0m \u001B[1m5s\u001B[0m 2ms/step - accuracy: 0.6871 - loss: 0.6986 - val_accuracy: 0.6708 - val_loss: 0.7279\n",
      "Epoch 6/100\n",
      "\u001B[1m2570/2570\u001B[0m \u001B[32m━━━━━━━━━━━━━━━━━━━━\u001B[0m\u001B[37m\u001B[0m \u001B[1m5s\u001B[0m 2ms/step - accuracy: 0.6937 - loss: 0.6847 - val_accuracy: 0.6752 - val_loss: 0.7256\n",
      "Epoch 7/100\n",
      "\u001B[1m2570/2570\u001B[0m \u001B[32m━━━━━━━━━━━━━━━━━━━━\u001B[0m\u001B[37m\u001B[0m \u001B[1m5s\u001B[0m 2ms/step - accuracy: 0.7003 - loss: 0.6735 - val_accuracy: 0.6763 - val_loss: 0.7250\n",
      "Epoch 8/100\n",
      "\u001B[1m2570/2570\u001B[0m \u001B[32m━━━━━━━━━━━━━━━━━━━━\u001B[0m\u001B[37m\u001B[0m \u001B[1m5s\u001B[0m 2ms/step - accuracy: 0.7053 - loss: 0.6631 - val_accuracy: 0.6776 - val_loss: 0.7260\n",
      "Epoch 9/100\n",
      "\u001B[1m2570/2570\u001B[0m \u001B[32m━━━━━━━━━━━━━━━━━━━━\u001B[0m\u001B[37m\u001B[0m \u001B[1m5s\u001B[0m 2ms/step - accuracy: 0.7083 - loss: 0.6555 - val_accuracy: 0.6787 - val_loss: 0.7260\n",
      "Epoch 10/100\n",
      "\u001B[1m2570/2570\u001B[0m \u001B[32m━━━━━━━━━━━━━━━━━━━━\u001B[0m\u001B[37m\u001B[0m \u001B[1m5s\u001B[0m 2ms/step - accuracy: 0.7130 - loss: 0.6479 - val_accuracy: 0.6797 - val_loss: 0.7259\n",
      "Epoch 11/100\n",
      "\u001B[1m2570/2570\u001B[0m \u001B[32m━━━━━━━━━━━━━━━━━━━━\u001B[0m\u001B[37m\u001B[0m \u001B[1m5s\u001B[0m 2ms/step - accuracy: 0.7159 - loss: 0.6414 - val_accuracy: 0.6808 - val_loss: 0.7277\n",
      "Epoch 12/100\n",
      "\u001B[1m2570/2570\u001B[0m \u001B[32m━━━━━━━━━━━━━━━━━━━━\u001B[0m\u001B[37m\u001B[0m \u001B[1m5s\u001B[0m 2ms/step - accuracy: 0.7181 - loss: 0.6364 - val_accuracy: 0.6809 - val_loss: 0.7288\n",
      "Epoch 13/100\n",
      "\u001B[1m2570/2570\u001B[0m \u001B[32m━━━━━━━━━━━━━━━━━━━━\u001B[0m\u001B[37m\u001B[0m \u001B[1m5s\u001B[0m 2ms/step - accuracy: 0.7199 - loss: 0.6320 - val_accuracy: 0.6796 - val_loss: 0.7274\n",
      "Epoch 14/100\n",
      "\u001B[1m2570/2570\u001B[0m \u001B[32m━━━━━━━━━━━━━━━━━━━━\u001B[0m\u001B[37m\u001B[0m \u001B[1m5s\u001B[0m 2ms/step - accuracy: 0.7228 - loss: 0.6270 - val_accuracy: 0.6803 - val_loss: 0.7301\n",
      "Epoch 15/100\n",
      "\u001B[1m2570/2570\u001B[0m \u001B[32m━━━━━━━━━━━━━━━━━━━━\u001B[0m\u001B[37m\u001B[0m \u001B[1m5s\u001B[0m 2ms/step - accuracy: 0.7246 - loss: 0.6227 - val_accuracy: 0.6810 - val_loss: 0.7308\n",
      "Epoch 16/100\n",
      "\u001B[1m2570/2570\u001B[0m \u001B[32m━━━━━━━━━━━━━━━━━━━━\u001B[0m\u001B[37m\u001B[0m \u001B[1m5s\u001B[0m 2ms/step - accuracy: 0.7258 - loss: 0.6200 - val_accuracy: 0.6805 - val_loss: 0.7310\n",
      "Epoch 17/100\n",
      "\u001B[1m2570/2570\u001B[0m \u001B[32m━━━━━━━━━━━━━━━━━━━━\u001B[0m\u001B[37m\u001B[0m \u001B[1m5s\u001B[0m 2ms/step - accuracy: 0.7282 - loss: 0.6154 - val_accuracy: 0.6821 - val_loss: 0.7321\n"
     ]
    }
   ],
   "execution_count": 17
  },
  {
   "metadata": {
    "ExecuteTime": {
     "end_time": "2025-04-30T14:28:26.016311Z",
     "start_time": "2025-04-30T14:28:25.821708Z"
    }
   },
   "cell_type": "code",
   "source": [
    "# plotting train and validation loss from history\n",
    "eval_functions.plot_graphs_from_history(cnn_history)"
   ],
   "id": "3f00c298d2eeb586",
   "outputs": [
    {
     "data": {
      "text/plain": [
       "<Figure size 640x480 with 1 Axes>"
      ],
      "image/png": "[encoded data removed]"
     },
     "metadata": {},
     "output_type": "display_data"
    },
    {
     "data": {
      "text/plain": [
       "<Figure size 640x480 with 1 Axes>"
      ],
      "image/png": "[encoded data removed]"
     },
     "metadata": {},
     "output_type": "display_data"
    }
   ],
   "execution_count": 18
  },
  {
   "metadata": {
    "ExecuteTime": {
     "end_time": "2025-04-30T14:28:26.120934Z",
     "start_time": "2025-04-30T14:28:26.057698Z"
    }
   },
   "cell_type": "code",
   "source": [
    "# save model\n",
    "cnn_model.save(\"cnn_model.keras\")\n",
    "cnn_model.save_weights(\"cnn_model.weights.h5\")"
   ],
   "id": "6961f5021bc8a967",
   "outputs": [],
   "execution_count": 19
  },
  {
   "metadata": {
    "ExecuteTime": {
     "end_time": "2025-04-30T14:28:26.491039Z",
     "start_time": "2025-04-30T14:28:26.149800Z"
    }
   },
   "cell_type": "code",
   "source": [
    "# free resources\n",
    "tf.keras.backend.clear_session()"
   ],
   "id": "361bf3c8d4e808aa",
   "outputs": [],
   "execution_count": 20
  },
  {
   "metadata": {},
   "cell_type": "markdown",
   "source": "#### 2. RNN Model Building",
   "id": "5e9d3a07f71a677f"
  },
  {
   "metadata": {
    "ExecuteTime": {
     "end_time": "2025-04-30T14:28:26.557855Z",
     "start_time": "2025-04-30T14:28:26.554074Z"
    }
   },
   "cell_type": "code",
   "source": [
    "def build_rnn_model(hp):\n",
    "    \"\"\"\n",
    "    NOTE: Some prelimnary trials were run for the choice of the parameter space used here.\n",
    "\n",
    "    :param hp: HyperParameters instance\n",
    "    :return: Compiled Keras model\n",
    "    \"\"\"\n",
    "    # Hyperparameters\n",
    "    hp_learning_rate = hp.Choice(\"learning_rate\", values=[0.0001, 0.00001, 0.000001])\n",
    "    activation = hp.Choice('activation', values=['gelu', 'swish', 'elu'])\n",
    "    dropout_rate = hp.Choice(\"dropout_rate\", values=[0.1, 0.2, 0.3])\n",
    "    recurrent_dropout_rate = hp.Choice(\"recurrent_dropout_rate\", values=[0.1, 0.2, 0.3])\n",
    "\n",
    "    # Input layer\n",
    "    inputs = tf.keras.Input(shape=(MAX_TOKENS, 25))\n",
    "\n",
    "    # Bidirectional RNN Layers\n",
    "    x = tf.keras.layers.Bidirectional(\n",
    "        tf.keras.layers.SimpleRNN(\n",
    "            units=hp.Int(\"rnn_units_0\", min_value=64, max_value=1024, step=32),\n",
    "            activation=activation,\n",
    "            dropout=dropout_rate,\n",
    "            recurrent_dropout=recurrent_dropout_rate,\n",
    "            return_sequences=True\n",
    "        )\n",
    "    )(inputs)\n",
    "\n",
    "    x = tf.keras.layers.Bidirectional(\n",
    "        tf.keras.layers.SimpleRNN(\n",
    "            units=hp.Int(\"rnn_units_1\", min_value=32, max_value=512, step=16),\n",
    "            activation=activation,\n",
    "            dropout=dropout_rate,\n",
    "            recurrent_dropout=recurrent_dropout_rate\n",
    "        )\n",
    "    )(x)\n",
    "\n",
    "    # Output Layer\n",
    "    outputs = tf.keras.layers.Dense(3, activation=\"softmax\")(x)\n",
    "\n",
    "    # Build and compile model\n",
    "    hp_model = tf.keras.Model(inputs=inputs, outputs=outputs)\n",
    "    hp_model.compile(\n",
    "        optimizer=tf.keras.optimizers.Adam(learning_rate=hp_learning_rate),\n",
    "        loss=tf.keras.losses.SparseCategoricalCrossentropy(),\n",
    "        metrics=[\"accuracy\"]\n",
    "    )\n",
    "\n",
    "    return hp_model"
   ],
   "id": "923f5a27133922ad",
   "outputs": [],
   "execution_count": 21
  },
  {
   "metadata": {
    "ExecuteTime": {
     "end_time": "2025-04-30T14:28:26.694336Z",
     "start_time": "2025-04-30T14:28:26.599307Z"
    }
   },
   "cell_type": "code",
   "source": [
    "# Initialize Keras Tuner using Hyperband algorithm\n",
    "# Delete old project from kerasTuner directory, or give new name, else tuner continues from last state\n",
    "rnn_model_tuner = ktuner.Hyperband(\n",
    "    build_rnn_model,\n",
    "    objective=ktuner.Objective(name='val_accuracy', direction='max'),\n",
    "    max_epochs=25,\n",
    "    factor=3,                  # Reduction factor (no of models to drop and after how many epochs)\n",
    "    directory='kerasTuner',\n",
    "    project_name=f'RNN_approach',\n",
    "    seed=RANDOM_SEED,\n",
    ")"
   ],
   "id": "33081140f4db7529",
   "outputs": [],
   "execution_count": 22
  },
  {
   "metadata": {},
   "cell_type": "code",
   "source": [
    "# Start tuner\n",
    "rnn_model_tuner.search(train, validation_data=val, callbacks=[stop_early_tuner])"
   ],
   "id": "47888814811da55d",
   "execution_count": 23,
   "outputs": [
    {
     "name": "stdout",
     "output_type": "stream",
     "text": [
      "Trial 30 Complete [00h 07m 12s]\n",
      "val_accuracy: 0.5281965732574463\n",
      "\n",
      "Best val_accuracy So Far: 0.7242728471755981\n",
      "Total elapsed time: 02h 34m 14s\n"
     ]
    }
   ]
  },
  {
   "metadata": {
    "ExecuteTime": {
     "end_time": "2025-04-30T17:03:24.069631Z",
     "start_time": "2025-04-30T17:03:22.092736Z"
    }
   },
   "cell_type": "code",
   "source": [
    "# Let's see the network configuration obtained\n",
    "rnn_model_tuner.get_best_models()[0].summary()"
   ],
   "id": "a9061e64b45d7940",
   "outputs": [
    {
     "name": "stderr",
     "output_type": "stream",
     "text": [
      "/home/murarip/miniconda3/envs/dl_project/lib/python3.10/site-packages/keras/src/saving/saving_lib.py:757: UserWarning: Skipping variable loading for optimizer 'adam', because it has 2 variables whereas the saved optimizer has 30 variables. \n",
      "  saveable.load_own_variables(weights_store.get(inner_path))\n"
     ]
    },
    {
     "data": {
      "text/plain": [
       "\u001B[1mModel: \"functional\"\u001B[0m\n"
      ],
      "text/html": [
       "<pre style=\"white-space:pre;overflow-x:auto;line-height:normal;font-family:Menlo,'DejaVu Sans Mono',consolas,'Courier New',monospace\"><span style=\"font-weight: bold\">Model: \"functional\"</span>\n",
       "</pre>\n"
      ]
     },
     "metadata": {},
     "output_type": "display_data"
    },
    {
     "data": {
      "text/plain": [
       "┏━━━━━━━━━━━━━━━━━━━━━━━━━━━━━━━━━┳━━━━━━━━━━━━━━━━━━━━━━━━┳━━━━━━━━━━━━━━━┓\n",
       "┃\u001B[1m \u001B[0m\u001B[1mLayer (type)                   \u001B[0m\u001B[1m \u001B[0m┃\u001B[1m \u001B[0m\u001B[1mOutput Shape          \u001B[0m\u001B[1m \u001B[0m┃\u001B[1m \u001B[0m\u001B[1m      Param #\u001B[0m\u001B[1m \u001B[0m┃\n",
       "┡━━━━━━━━━━━━━━━━━━━━━━━━━━━━━━━━━╇━━━━━━━━━━━━━━━━━━━━━━━━╇━━━━━━━━━━━━━━━┩\n",
       "│ input_layer (\u001B[38;5;33mInputLayer\u001B[0m)        │ (\u001B[38;5;45mNone\u001B[0m, \u001B[38;5;34m14\u001B[0m, \u001B[38;5;34m25\u001B[0m)         │             \u001B[38;5;34m0\u001B[0m │\n",
       "├─────────────────────────────────┼────────────────────────┼───────────────┤\n",
       "│ bidirectional (\u001B[38;5;33mBidirectional\u001B[0m)   │ (\u001B[38;5;45mNone\u001B[0m, \u001B[38;5;34m14\u001B[0m, \u001B[38;5;34m1344\u001B[0m)       │       \u001B[38;5;34m938,112\u001B[0m │\n",
       "├─────────────────────────────────┼────────────────────────┼───────────────┤\n",
       "│ bidirectional_1 (\u001B[38;5;33mBidirectional\u001B[0m) │ (\u001B[38;5;45mNone\u001B[0m, \u001B[38;5;34m480\u001B[0m)            │       \u001B[38;5;34m760,800\u001B[0m │\n",
       "├─────────────────────────────────┼────────────────────────┼───────────────┤\n",
       "│ dense (\u001B[38;5;33mDense\u001B[0m)                   │ (\u001B[38;5;45mNone\u001B[0m, \u001B[38;5;34m3\u001B[0m)              │         \u001B[38;5;34m1,443\u001B[0m │\n",
       "└─────────────────────────────────┴────────────────────────┴───────────────┘\n"
      ],
      "text/html": [
       "<pre style=\"white-space:pre;overflow-x:auto;line-height:normal;font-family:Menlo,'DejaVu Sans Mono',consolas,'Courier New',monospace\">┏━━━━━━━━━━━━━━━━━━━━━━━━━━━━━━━━━┳━━━━━━━━━━━━━━━━━━━━━━━━┳━━━━━━━━━━━━━━━┓\n",
       "┃<span style=\"font-weight: bold\"> Layer (type)                    </span>┃<span style=\"font-weight: bold\"> Output Shape           </span>┃<span style=\"font-weight: bold\">       Param # </span>┃\n",
       "┡━━━━━━━━━━━━━━━━━━━━━━━━━━━━━━━━━╇━━━━━━━━━━━━━━━━━━━━━━━━╇━━━━━━━━━━━━━━━┩\n",
       "│ input_layer (<span style=\"color: #0087ff; text-decoration-color: #0087ff\">InputLayer</span>)        │ (<span style=\"color: #00d7ff; text-decoration-color: #00d7ff\">None</span>, <span style=\"color: #00af00; text-decoration-color: #00af00\">14</span>, <span style=\"color: #00af00; text-decoration-color: #00af00\">25</span>)         │             <span style=\"color: #00af00; text-decoration-color: #00af00\">0</span> │\n",
       "├─────────────────────────────────┼────────────────────────┼───────────────┤\n",
       "│ bidirectional (<span style=\"color: #0087ff; text-decoration-color: #0087ff\">Bidirectional</span>)   │ (<span style=\"color: #00d7ff; text-decoration-color: #00d7ff\">None</span>, <span style=\"color: #00af00; text-decoration-color: #00af00\">14</span>, <span style=\"color: #00af00; text-decoration-color: #00af00\">1344</span>)       │       <span style=\"color: #00af00; text-decoration-color: #00af00\">938,112</span> │\n",
       "├─────────────────────────────────┼────────────────────────┼───────────────┤\n",
       "│ bidirectional_1 (<span style=\"color: #0087ff; text-decoration-color: #0087ff\">Bidirectional</span>) │ (<span style=\"color: #00d7ff; text-decoration-color: #00d7ff\">None</span>, <span style=\"color: #00af00; text-decoration-color: #00af00\">480</span>)            │       <span style=\"color: #00af00; text-decoration-color: #00af00\">760,800</span> │\n",
       "├─────────────────────────────────┼────────────────────────┼───────────────┤\n",
       "│ dense (<span style=\"color: #0087ff; text-decoration-color: #0087ff\">Dense</span>)                   │ (<span style=\"color: #00d7ff; text-decoration-color: #00d7ff\">None</span>, <span style=\"color: #00af00; text-decoration-color: #00af00\">3</span>)              │         <span style=\"color: #00af00; text-decoration-color: #00af00\">1,443</span> │\n",
       "└─────────────────────────────────┴────────────────────────┴───────────────┘\n",
       "</pre>\n"
      ]
     },
     "metadata": {},
     "output_type": "display_data"
    },
    {
     "data": {
      "text/plain": [
       "\u001B[1m Total params: \u001B[0m\u001B[38;5;34m1,700,355\u001B[0m (6.49 MB)\n"
      ],
      "text/html": [
       "<pre style=\"white-space:pre;overflow-x:auto;line-height:normal;font-family:Menlo,'DejaVu Sans Mono',consolas,'Courier New',monospace\"><span style=\"font-weight: bold\"> Total params: </span><span style=\"color: #00af00; text-decoration-color: #00af00\">1,700,355</span> (6.49 MB)\n",
       "</pre>\n"
      ]
     },
     "metadata": {},
     "output_type": "display_data"
    },
    {
     "data": {
      "text/plain": [
       "\u001B[1m Trainable params: \u001B[0m\u001B[38;5;34m1,700,355\u001B[0m (6.49 MB)\n"
      ],
      "text/html": [
       "<pre style=\"white-space:pre;overflow-x:auto;line-height:normal;font-family:Menlo,'DejaVu Sans Mono',consolas,'Courier New',monospace\"><span style=\"font-weight: bold\"> Trainable params: </span><span style=\"color: #00af00; text-decoration-color: #00af00\">1,700,355</span> (6.49 MB)\n",
       "</pre>\n"
      ]
     },
     "metadata": {},
     "output_type": "display_data"
    },
    {
     "data": {
      "text/plain": [
       "\u001B[1m Non-trainable params: \u001B[0m\u001B[38;5;34m0\u001B[0m (0.00 B)\n"
      ],
      "text/html": [
       "<pre style=\"white-space:pre;overflow-x:auto;line-height:normal;font-family:Menlo,'DejaVu Sans Mono',consolas,'Courier New',monospace\"><span style=\"font-weight: bold\"> Non-trainable params: </span><span style=\"color: #00af00; text-decoration-color: #00af00\">0</span> (0.00 B)\n",
       "</pre>\n"
      ]
     },
     "metadata": {},
     "output_type": "display_data"
    }
   ],
   "execution_count": 24
  },
  {
   "metadata": {
    "ExecuteTime": {
     "end_time": "2025-04-30T17:03:24.141674Z",
     "start_time": "2025-04-30T17:03:24.137006Z"
    }
   },
   "cell_type": "code",
   "source": [
    "# Let us see all the parameters searched by the tuner\n",
    "rnn_model_best_hps = rnn_model_tuner.get_best_hyperparameters()[0]\n",
    "rnn_model_best_hps.values"
   ],
   "id": "6371e7a9c4a1f59c",
   "outputs": [
    {
     "data": {
      "text/plain": [
       "{'learning_rate': 0.0001,\n",
       " 'activation': 'gelu',\n",
       " 'dropout_rate': 0.1,\n",
       " 'recurrent_dropout_rate': 0.1,\n",
       " 'rnn_units_0': 672,\n",
       " 'rnn_units_1': 240,\n",
       " 'tuner/epochs': 25,\n",
       " 'tuner/initial_epoch': 9,\n",
       " 'tuner/bracket': 1,\n",
       " 'tuner/round': 1,\n",
       " 'tuner/trial_id': '0023'}"
      ]
     },
     "execution_count": 25,
     "metadata": {},
     "output_type": "execute_result"
    }
   ],
   "execution_count": 25
  },
  {
   "metadata": {
    "ExecuteTime": {
     "end_time": "2025-04-30T17:23:15.378750Z",
     "start_time": "2025-04-30T17:03:24.207648Z"
    }
   },
   "cell_type": "code",
   "source": [
    "# Build and train model using the best parameters from the tuner\n",
    "rnn_model = rnn_model_tuner.hypermodel.build(rnn_model_best_hps)\n",
    "rnn_history = rnn_model.fit(train, validation_data=val, epochs=100, callbacks=[stop_early])"
   ],
   "id": "23bc5d9723b8d81b",
   "outputs": [
    {
     "name": "stdout",
     "output_type": "stream",
     "text": [
      "Epoch 1/100\n",
      "\u001B[1m2570/2570\u001B[0m \u001B[32m━━━━━━━━━━━━━━━━━━━━\u001B[0m\u001B[37m\u001B[0m \u001B[1m44s\u001B[0m 15ms/step - accuracy: 0.5295 - loss: 0.9462 - val_accuracy: 0.6179 - val_loss: 0.8043\n",
      "Epoch 2/100\n",
      "\u001B[1m2570/2570\u001B[0m \u001B[32m━━━━━━━━━━━━━━━━━━━━\u001B[0m\u001B[37m\u001B[0m \u001B[1m36s\u001B[0m 14ms/step - accuracy: 0.6125 - loss: 0.8159 - val_accuracy: 0.6562 - val_loss: 0.7370\n",
      "Epoch 3/100\n",
      "\u001B[1m2570/2570\u001B[0m \u001B[32m━━━━━━━━━━━━━━━━━━━━\u001B[0m\u001B[37m\u001B[0m \u001B[1m37s\u001B[0m 14ms/step - accuracy: 0.6439 - loss: 0.7589 - val_accuracy: 0.6763 - val_loss: 0.6937\n",
      "Epoch 4/100\n",
      "\u001B[1m2570/2570\u001B[0m \u001B[32m━━━━━━━━━━━━━━━━━━━━\u001B[0m\u001B[37m\u001B[0m \u001B[1m37s\u001B[0m 14ms/step - accuracy: 0.6654 - loss: 0.7191 - val_accuracy: 0.6894 - val_loss: 0.6651\n",
      "Epoch 5/100\n",
      "\u001B[1m2570/2570\u001B[0m \u001B[32m━━━━━━━━━━━━━━━━━━━━\u001B[0m\u001B[37m\u001B[0m \u001B[1m36s\u001B[0m 14ms/step - accuracy: 0.6779 - loss: 0.6918 - val_accuracy: 0.6969 - val_loss: 0.6494\n",
      "Epoch 6/100\n",
      "\u001B[1m2570/2570\u001B[0m \u001B[32m━━━━━━━━━━━━━━━━━━━━\u001B[0m\u001B[37m\u001B[0m \u001B[1m36s\u001B[0m 14ms/step - accuracy: 0.6871 - loss: 0.6719 - val_accuracy: 0.7028 - val_loss: 0.6386\n",
      "Epoch 7/100\n",
      "\u001B[1m2570/2570\u001B[0m \u001B[32m━━━━━━━━━━━━━━━━━━━━\u001B[0m\u001B[37m\u001B[0m \u001B[1m36s\u001B[0m 14ms/step - accuracy: 0.6956 - loss: 0.6565 - val_accuracy: 0.7048 - val_loss: 0.6310\n",
      "Epoch 8/100\n",
      "\u001B[1m2570/2570\u001B[0m \u001B[32m━━━━━━━━━━━━━━━━━━━━\u001B[0m\u001B[37m\u001B[0m \u001B[1m36s\u001B[0m 14ms/step - accuracy: 0.7010 - loss: 0.6446 - val_accuracy: 0.7090 - val_loss: 0.6237\n",
      "Epoch 9/100\n",
      "\u001B[1m2570/2570\u001B[0m \u001B[32m━━━━━━━━━━━━━━━━━━━━\u001B[0m\u001B[37m\u001B[0m \u001B[1m36s\u001B[0m 14ms/step - accuracy: 0.7064 - loss: 0.6341 - val_accuracy: 0.7119 - val_loss: 0.6187\n",
      "Epoch 10/100\n",
      "\u001B[1m2570/2570\u001B[0m \u001B[32m━━━━━━━━━━━━━━━━━━━━\u001B[0m\u001B[37m\u001B[0m \u001B[1m36s\u001B[0m 14ms/step - accuracy: 0.7101 - loss: 0.6261 - val_accuracy: 0.7141 - val_loss: 0.6145\n",
      "Epoch 11/100\n",
      "\u001B[1m2570/2570\u001B[0m \u001B[32m━━━━━━━━━━━━━━━━━━━━\u001B[0m\u001B[37m\u001B[0m \u001B[1m36s\u001B[0m 14ms/step - accuracy: 0.7143 - loss: 0.6181 - val_accuracy: 0.7159 - val_loss: 0.6129\n",
      "Epoch 12/100\n",
      "\u001B[1m2570/2570\u001B[0m \u001B[32m━━━━━━━━━━━━━━━━━━━━\u001B[0m\u001B[37m\u001B[0m \u001B[1m36s\u001B[0m 14ms/step - accuracy: 0.7182 - loss: 0.6109 - val_accuracy: 0.7163 - val_loss: 0.6103\n",
      "Epoch 13/100\n",
      "\u001B[1m2570/2570\u001B[0m \u001B[32m━━━━━━━━━━━━━━━━━━━━\u001B[0m\u001B[37m\u001B[0m \u001B[1m36s\u001B[0m 14ms/step - accuracy: 0.7209 - loss: 0.6043 - val_accuracy: 0.7183 - val_loss: 0.6074\n",
      "Epoch 14/100\n",
      "\u001B[1m2570/2570\u001B[0m \u001B[32m━━━━━━━━━━━━━━━━━━━━\u001B[0m\u001B[37m\u001B[0m \u001B[1m36s\u001B[0m 14ms/step - accuracy: 0.7247 - loss: 0.5983 - val_accuracy: 0.7180 - val_loss: 0.6055\n",
      "Epoch 15/100\n",
      "\u001B[1m2570/2570\u001B[0m \u001B[32m━━━━━━━━━━━━━━━━━━━━\u001B[0m\u001B[37m\u001B[0m \u001B[1m36s\u001B[0m 14ms/step - accuracy: 0.7268 - loss: 0.5925 - val_accuracy: 0.7207 - val_loss: 0.6022\n",
      "Epoch 16/100\n",
      "\u001B[1m2570/2570\u001B[0m \u001B[32m━━━━━━━━━━━━━━━━━━━━\u001B[0m\u001B[37m\u001B[0m \u001B[1m36s\u001B[0m 14ms/step - accuracy: 0.7302 - loss: 0.5874 - val_accuracy: 0.7207 - val_loss: 0.6043\n",
      "Epoch 17/100\n",
      "\u001B[1m2570/2570\u001B[0m \u001B[32m━━━━━━━━━━━━━━━━━━━━\u001B[0m\u001B[37m\u001B[0m \u001B[1m36s\u001B[0m 14ms/step - accuracy: 0.7329 - loss: 0.5825 - val_accuracy: 0.7216 - val_loss: 0.6014\n",
      "Epoch 18/100\n",
      "\u001B[1m2570/2570\u001B[0m \u001B[32m━━━━━━━━━━━━━━━━━━━━\u001B[0m\u001B[37m\u001B[0m \u001B[1m36s\u001B[0m 14ms/step - accuracy: 0.7355 - loss: 0.5772 - val_accuracy: 0.7222 - val_loss: 0.6014\n",
      "Epoch 19/100\n",
      "\u001B[1m2570/2570\u001B[0m \u001B[32m━━━━━━━━━━━━━━━━━━━━\u001B[0m\u001B[37m\u001B[0m \u001B[1m36s\u001B[0m 14ms/step - accuracy: 0.7384 - loss: 0.5718 - val_accuracy: 0.7227 - val_loss: 0.6006\n",
      "Epoch 20/100\n",
      "\u001B[1m2570/2570\u001B[0m \u001B[32m━━━━━━━━━━━━━━━━━━━━\u001B[0m\u001B[37m\u001B[0m \u001B[1m36s\u001B[0m 14ms/step - accuracy: 0.7412 - loss: 0.5676 - val_accuracy: 0.7235 - val_loss: 0.6011\n",
      "Epoch 21/100\n",
      "\u001B[1m2570/2570\u001B[0m \u001B[32m━━━━━━━━━━━━━━━━━━━━\u001B[0m\u001B[37m\u001B[0m \u001B[1m36s\u001B[0m 14ms/step - accuracy: 0.7432 - loss: 0.5632 - val_accuracy: 0.7242 - val_loss: 0.6000\n",
      "Epoch 22/100\n",
      "\u001B[1m2570/2570\u001B[0m \u001B[32m━━━━━━━━━━━━━━━━━━━━\u001B[0m\u001B[37m\u001B[0m \u001B[1m36s\u001B[0m 14ms/step - accuracy: 0.7464 - loss: 0.5571 - val_accuracy: 0.7243 - val_loss: 0.6014\n",
      "Epoch 23/100\n",
      "\u001B[1m2570/2570\u001B[0m \u001B[32m━━━━━━━━━━━━━━━━━━━━\u001B[0m\u001B[37m\u001B[0m \u001B[1m36s\u001B[0m 14ms/step - accuracy: 0.7491 - loss: 0.5533 - val_accuracy: 0.7251 - val_loss: 0.6000\n",
      "Epoch 24/100\n",
      "\u001B[1m2570/2570\u001B[0m \u001B[32m━━━━━━━━━━━━━━━━━━━━\u001B[0m\u001B[37m\u001B[0m \u001B[1m36s\u001B[0m 14ms/step - accuracy: 0.7511 - loss: 0.5479 - val_accuracy: 0.7258 - val_loss: 0.6020\n",
      "Epoch 25/100\n",
      "\u001B[1m2570/2570\u001B[0m \u001B[32m━━━━━━━━━━━━━━━━━━━━\u001B[0m\u001B[37m\u001B[0m \u001B[1m36s\u001B[0m 14ms/step - accuracy: 0.7533 - loss: 0.5445 - val_accuracy: 0.7248 - val_loss: 0.6028\n",
      "Epoch 26/100\n",
      "\u001B[1m2570/2570\u001B[0m \u001B[32m━━━━━━━━━━━━━━━━━━━━\u001B[0m\u001B[37m\u001B[0m \u001B[1m36s\u001B[0m 14ms/step - accuracy: 0.7564 - loss: 0.5403 - val_accuracy: 0.7261 - val_loss: 0.6038\n",
      "Epoch 27/100\n",
      "\u001B[1m2570/2570\u001B[0m \u001B[32m━━━━━━━━━━━━━━━━━━━━\u001B[0m\u001B[37m\u001B[0m \u001B[1m36s\u001B[0m 14ms/step - accuracy: 0.7587 - loss: 0.5346 - val_accuracy: 0.7263 - val_loss: 0.6046\n",
      "Epoch 28/100\n",
      "\u001B[1m2570/2570\u001B[0m \u001B[32m━━━━━━━━━━━━━━━━━━━━\u001B[0m\u001B[37m\u001B[0m \u001B[1m36s\u001B[0m 14ms/step - accuracy: 0.7611 - loss: 0.5306 - val_accuracy: 0.7267 - val_loss: 0.6042\n",
      "Epoch 29/100\n",
      "\u001B[1m2570/2570\u001B[0m \u001B[32m━━━━━━━━━━━━━━━━━━━━\u001B[0m\u001B[37m\u001B[0m \u001B[1m36s\u001B[0m 14ms/step - accuracy: 0.7629 - loss: 0.5274 - val_accuracy: 0.7259 - val_loss: 0.6041\n",
      "Epoch 30/100\n",
      "\u001B[1m2570/2570\u001B[0m \u001B[32m━━━━━━━━━━━━━━━━━━━━\u001B[0m\u001B[37m\u001B[0m \u001B[1m36s\u001B[0m 14ms/step - accuracy: 0.7650 - loss: 0.5231 - val_accuracy: 0.7270 - val_loss: 0.6063\n",
      "Epoch 31/100\n",
      "\u001B[1m2570/2570\u001B[0m \u001B[32m━━━━━━━━━━━━━━━━━━━━\u001B[0m\u001B[37m\u001B[0m \u001B[1m36s\u001B[0m 14ms/step - accuracy: 0.7665 - loss: 0.5203 - val_accuracy: 0.7279 - val_loss: 0.6097\n",
      "Epoch 32/100\n",
      "\u001B[1m2570/2570\u001B[0m \u001B[32m━━━━━━━━━━━━━━━━━━━━\u001B[0m\u001B[37m\u001B[0m \u001B[1m36s\u001B[0m 14ms/step - accuracy: 0.7695 - loss: 0.5147 - val_accuracy: 0.7278 - val_loss: 0.6109\n",
      "Epoch 33/100\n",
      "\u001B[1m2570/2570\u001B[0m \u001B[32m━━━━━━━━━━━━━━━━━━━━\u001B[0m\u001B[37m\u001B[0m \u001B[1m36s\u001B[0m 14ms/step - accuracy: 0.7716 - loss: 0.5118 - val_accuracy: 0.7267 - val_loss: 0.6088\n"
     ]
    }
   ],
   "execution_count": 26
  },
  {
   "metadata": {
    "ExecuteTime": {
     "end_time": "2025-04-30T17:25:42.773799Z",
     "start_time": "2025-04-30T17:25:42.651286Z"
    }
   },
   "cell_type": "code",
   "source": [
    "# plotting train and validation loss from history\n",
    "eval_functions.plot_graphs_from_history(history=rnn_history)"
   ],
   "id": "8ae5b31824c2f388",
   "outputs": [
    {
     "data": {
      "text/plain": [
       "<Figure size 640x480 with 1 Axes>"
      ],
      "image/png": "[encoded data removed]"
     },
     "metadata": {},
     "output_type": "display_data"
    },
    {
     "data": {
      "text/plain": [
       "<Figure size 640x480 with 1 Axes>"
      ],
      "image/png": "[encoded data removed]"
     },
     "metadata": {},
     "output_type": "display_data"
    }
   ],
   "execution_count": 27
  },
  {
   "metadata": {
    "ExecuteTime": {
     "end_time": "2025-04-30T17:25:42.874506Z",
     "start_time": "2025-04-30T17:25:42.797578Z"
    }
   },
   "cell_type": "code",
   "source": [
    "# save model and weights\n",
    "rnn_model.save(\"rnn_model.keras\")\n",
    "rnn_model.save_weights(\"rnn_model.weights.h5\")"
   ],
   "id": "e33dd6380a468368",
   "outputs": [],
   "execution_count": 28
  },
  {
   "metadata": {
    "ExecuteTime": {
     "end_time": "2025-04-30T17:25:43.820755Z",
     "start_time": "2025-04-30T17:25:42.896375Z"
    }
   },
   "cell_type": "code",
   "source": [
    "# free resources\n",
    "tf.keras.backend.clear_session()"
   ],
   "id": "12e2a67f231bca5b",
   "outputs": [],
   "execution_count": 29
  },
  {
   "metadata": {},
   "cell_type": "markdown",
   "source": "#### 3. Evaluation of both models",
   "id": "ca1fe88cef6f4314"
  },
  {
   "metadata": {
    "ExecuteTime": {
     "end_time": "2025-04-30T17:25:44.088512Z",
     "start_time": "2025-04-30T17:25:43.841661Z"
    }
   },
   "cell_type": "code",
   "source": [
    "# Reading saved models from disk, or from google backups\n",
    "\n",
    "try:\n",
    "    cnn_model = tf.keras.models.load_model(\"cnn_model.keras\")\n",
    "except FileNotFoundError:\n",
    "    import gdown\n",
    "    url = \"https://drive.google.com/file/d/1u3QAWiI0G9jnlxUIqTiAE3Hal9d6j2Qp/view?usp=sharing\"\n",
    "    gdown.download(url, 'cnn_model.keras', fuzzy=True)\n",
    "    cnn_model = tf.keras.models.load_model(\"cnn_model.keras\")\n",
    "\n",
    "try:\n",
    "    rnn_model = tf.keras.models.load_model(\"rnn_model.keras\")\n",
    "except FileNotFoundError:\n",
    "    import gdown\n",
    "    url = \"https://drive.google.com/file/d/1yLi0b3JL5GW1blCHyYTmFk-hk2TFuf0U/view?usp=sharing\"\n",
    "    gdown.download(url, 'rnn_model.keras', fuzzy=True)\n",
    "    rnn_model = tf.keras.models.load_model(\"rnn_model.keras\")"
   ],
   "id": "d8d58ac88c35f4b",
   "outputs": [],
   "execution_count": 30
  },
  {
   "metadata": {},
   "cell_type": "markdown",
   "source": "Train Eval",
   "id": "f51a7d75b1961e56"
  },
  {
   "metadata": {
    "ExecuteTime": {
     "end_time": "2025-04-30T17:27:11.459826Z",
     "start_time": "2025-04-30T17:25:44.172962Z"
    }
   },
   "cell_type": "code",
   "source": [
    "actual, predicted = eval_functions.get_actual_predicted_labels(cnn_model, train)\n",
    "precision, recall, f1_score, perf_metric = eval_functions.calculate_classification_metrics(actual, predicted, [0, 1, 2])\n",
    "precision, recall, f1_score, perf_metric"
   ],
   "id": "7abf46e66894bded",
   "outputs": [
    {
     "name": "stdout",
     "output_type": "stream",
     "text": [
      "\u001B[1m   1/2570\u001B[0m \u001B[37m━━━━━━━━━━━━━━━━━━━━\u001B[0m \u001B[1m7:09\u001B[0m 167ms/step"
     ]
    },
    {
     "name": "stderr",
     "output_type": "stream",
     "text": [
      "2025-04-30 18:26:20.399811: I tensorflow/core/framework/local_rendezvous.cc:405] Local rendezvous is aborting with status: OUT_OF_RANGE: End of sequence\n"
     ]
    },
    {
     "name": "stdout",
     "output_type": "stream",
     "text": [
      "\u001B[1m2570/2570\u001B[0m \u001B[32m━━━━━━━━━━━━━━━━━━━━\u001B[0m\u001B[37m\u001B[0m \u001B[1m2s\u001B[0m 901us/step\n"
     ]
    },
    {
     "data": {
      "text/plain": [
       "({0: 0.7188610557337263, 1: 0.7764005720700632, 2: 0.6850096757649026},\n",
       " {0: 0.7371967235701175, 1: 0.6972475797207529, 2: 0.737134535470466},\n",
       " {0: 0.7279134420646814, 1: 0.7346983323146772, 2: 0.710116857557094},\n",
       " {'avg_precision': 0.726757101189564,\n",
       "  'avg_recall': 0.7238596129204454,\n",
       "  'avg_f1_score': 0.7242428773121509})"
      ]
     },
     "execution_count": 32,
     "metadata": {},
     "output_type": "execute_result"
    }
   ],
   "execution_count": 32
  },
  {
   "metadata": {
    "ExecuteTime": {
     "end_time": "2025-04-30T17:28:05.445007Z",
     "start_time": "2025-04-30T17:27:11.527313Z"
    }
   },
   "cell_type": "code",
   "source": [
    "actual, predicted = eval_functions.get_actual_predicted_labels(rnn_model, train)\n",
    "precision, recall, f1_score, perf_metric = eval_functions.calculate_classification_metrics(actual, predicted, [0, 1, 2])\n",
    "precision, recall, f1_score, perf_metric"
   ],
   "id": "abbe3c3dc1a5af9c",
   "outputs": [
    {
     "name": "stderr",
     "output_type": "stream",
     "text": [
      "2025-04-30 18:27:47.922240: I tensorflow/core/framework/local_rendezvous.cc:405] Local rendezvous is aborting with status: OUT_OF_RANGE: End of sequence\n"
     ]
    },
    {
     "name": "stdout",
     "output_type": "stream",
     "text": [
      "\u001B[1m2570/2570\u001B[0m \u001B[32m━━━━━━━━━━━━━━━━━━━━\u001B[0m\u001B[37m\u001B[0m \u001B[1m9s\u001B[0m 3ms/step\n"
     ]
    },
    {
     "data": {
      "text/plain": [
       "({0: 0.8004383451096551, 1: 0.7951143744704886, 2: 0.7594921188507282},\n",
       " {0: 0.775863218385696, 1: 0.8035879517739507, 2: 0.7756706366874443},\n",
       " {0: 0.7879592140719576, 1: 0.7993287069366187, 2: 0.7674961280330407},\n",
       " {'avg_precision': 0.7850149461436239,\n",
       "  'avg_recall': 0.7850406022823636,\n",
       "  'avg_f1_score': 0.7849280163472057})"
      ]
     },
     "execution_count": 33,
     "metadata": {},
     "output_type": "execute_result"
    }
   ],
   "execution_count": 33
  },
  {
   "metadata": {},
   "cell_type": "markdown",
   "source": "Val eval",
   "id": "2d9d82daaa506085"
  },
  {
   "metadata": {
    "ExecuteTime": {
     "end_time": "2025-04-30T17:28:15.875331Z",
     "start_time": "2025-04-30T17:28:05.559625Z"
    }
   },
   "cell_type": "code",
   "source": [
    "actual, predicted = eval_functions.get_actual_predicted_labels(cnn_model, val)\n",
    "precision, recall, f1_score, perf_metric = eval_functions.calculate_classification_metrics(actual, predicted, [0, 1, 2])\n",
    "precision, recall, f1_score, perf_metric"
   ],
   "id": "44f1736ff914cb86",
   "outputs": [
    {
     "name": "stdout",
     "output_type": "stream",
     "text": [
      "\u001B[1m286/286\u001B[0m \u001B[32m━━━━━━━━━━━━━━━━━━━━\u001B[0m\u001B[37m\u001B[0m \u001B[1m0s\u001B[0m 1ms/step\n"
     ]
    },
    {
     "data": {
      "text/plain": [
       "({0: 0.6719390743995314, 1: 0.7267169916176539, 2: 0.6386700648748842},\n",
       " {0: 0.6882, 1: 0.6501491547895261, 2: 0.6903330828950663},\n",
       " {0: 0.6799723347495307, 1: 0.6863040958691422, 2: 0.6634974124443375},\n",
       " {'avg_precision': 0.6791087102973566,\n",
       "  'avg_recall': 0.6762274125615307,\n",
       "  'avg_f1_score': 0.6765912810210034})"
      ]
     },
     "execution_count": 35,
     "metadata": {},
     "output_type": "execute_result"
    }
   ],
   "execution_count": 35
  },
  {
   "metadata": {
    "ExecuteTime": {
     "end_time": "2025-04-30T17:28:23.077236Z",
     "start_time": "2025-04-30T17:28:15.904879Z"
    }
   },
   "cell_type": "code",
   "source": [
    "actual, predicted = eval_functions.get_actual_predicted_labels(rnn_model, val)\n",
    "precision, recall, f1_score, perf_metric = eval_functions.calculate_classification_metrics(actual, predicted, [0, 1, 2])\n",
    "precision, recall, f1_score, perf_metric"
   ],
   "id": "1fa6a6b8ea48618f",
   "outputs": [
    {
     "name": "stdout",
     "output_type": "stream",
     "text": [
      "\u001B[1m 44/286\u001B[0m \u001B[32m━━━\u001B[0m\u001B[37m━━━━━━━━━━━━━━━━━\u001B[0m \u001B[1m0s\u001B[0m 4ms/step"
     ]
    },
    {
     "name": "stderr",
     "output_type": "stream",
     "text": [
      "2025-04-30 18:28:20.890233: I tensorflow/core/framework/local_rendezvous.cc:405] Local rendezvous is aborting with status: OUT_OF_RANGE: End of sequence\n"
     ]
    },
    {
     "name": "stdout",
     "output_type": "stream",
     "text": [
      "\u001B[1m286/286\u001B[0m \u001B[32m━━━━━━━━━━━━━━━━━━━━\u001B[0m\u001B[37m\u001B[0m \u001B[1m1s\u001B[0m 4ms/step\n"
     ]
    },
    {
     "data": {
      "text/plain": [
       "({0: 0.7440508326757755, 1: 0.7350694159204797, 2: 0.6967854392152094},\n",
       " {0: 0.71664, 1: 0.7414650314882334, 2: 0.7174638951498455},\n",
       " {0: 0.7300882251064611, 1: 0.7382533723856276, 2: 0.7069734920928702},\n",
       " {'avg_precision': 0.7253018959371548,\n",
       "  'avg_recall': 0.7251896422126931,\n",
       "  'avg_f1_score': 0.7251050298616529})"
      ]
     },
     "execution_count": 36,
     "metadata": {},
     "output_type": "execute_result"
    }
   ],
   "execution_count": 36
  },
  {
   "metadata": {},
   "cell_type": "markdown",
   "source": "Test eval",
   "id": "d6fd7859d13cb675"
  },
  {
   "metadata": {
    "ExecuteTime": {
     "end_time": "2025-04-30T17:28:46.186080Z",
     "start_time": "2025-04-30T17:28:23.170779Z"
    }
   },
   "cell_type": "code",
   "source": [
    "actual, predicted = eval_functions.get_actual_predicted_labels(cnn_model, test)\n",
    "precision, recall, f1_score, perf_metric = eval_functions.calculate_classification_metrics(actual, predicted, [0, 1, 2])\n",
    "precision, recall, f1_score, perf_metric"
   ],
   "id": "274793a3eb7a8fcd",
   "outputs": [
    {
     "name": "stdout",
     "output_type": "stream",
     "text": [
      "\u001B[1m714/714\u001B[0m \u001B[32m━━━━━━━━━━━━━━━━━━━━\u001B[0m\u001B[37m\u001B[0m \u001B[1m1s\u001B[0m 1ms/step\n"
     ]
    },
    {
     "data": {
      "text/plain": [
       "({0: 0.6770313738287259, 1: 0.7336714108567304, 2: 0.6419325263010676},\n",
       " {0: 0.697104, 1: 0.6569496693790292, 2: 0.6897018065248606},\n",
       " {0: 0.6869210818821786, 1: 0.6931941384254887, 2: 0.6649603605778904},\n",
       " {'avg_precision': 0.6842117703288414,\n",
       "  'avg_recall': 0.6812518253012966,\n",
       "  'avg_f1_score': 0.6816918602951859})"
      ]
     },
     "execution_count": 38,
     "metadata": {},
     "output_type": "execute_result"
    }
   ],
   "execution_count": 38
  },
  {
   "metadata": {
    "ExecuteTime": {
     "end_time": "2025-04-30T17:28:46.463034Z",
     "start_time": "2025-04-30T17:28:46.210257Z"
    }
   },
   "cell_type": "code",
   "source": "eval_functions.plot_confusion_matrix(actual,predicted,[\"disappointed\",\"happy\",\"angry\"])",
   "id": "3cf7b77d912a3a00",
   "outputs": [
    {
     "data": {
      "text/plain": [
       "<Figure size 600x600 with 1 Axes>"
      ],
      "image/png": "[encoded data removed]"
     },
     "metadata": {},
     "output_type": "display_data"
    }
   ],
   "execution_count": 39
  },
  {
   "metadata": {
    "ExecuteTime": {
     "end_time": "2025-04-30T17:29:02.273612Z",
     "start_time": "2025-04-30T17:28:46.486055Z"
    }
   },
   "cell_type": "code",
   "source": [
    "actual, predicted = eval_functions.get_actual_predicted_labels(rnn_model, test)\n",
    "precision, recall, f1_score, perf_metric = eval_functions.calculate_classification_metrics(actual, predicted, [0, 1, 2])\n",
    "precision, recall, f1_score, perf_metric"
   ],
   "id": "44fdd73279b33608",
   "outputs": [
    {
     "name": "stdout",
     "output_type": "stream",
     "text": [
      "\u001B[1m714/714\u001B[0m \u001B[32m━━━━━━━━━━━━━━━━━━━━\u001B[0m\u001B[37m\u001B[0m \u001B[1m2s\u001B[0m 3ms/step\n"
     ]
    },
    {
     "data": {
      "text/plain": [
       "({0: 0.7475155997226716, 1: 0.7431841797100494, 2: 0.6989402854077951},\n",
       " {0: 0.724528, 1: 0.746755937090867, 2: 0.7179851070224063},\n",
       " {0: 0.7358423113797753, 1: 0.7449657772046425, 2: 0.7083347059792456},\n",
       " {'avg_precision': 0.7298800216135053,\n",
       "  'avg_recall': 0.7297563480377577,\n",
       "  'avg_f1_score': 0.7297142648545544})"
      ]
     },
     "execution_count": 40,
     "metadata": {},
     "output_type": "execute_result"
    }
   ],
   "execution_count": 40
  },
  {
   "metadata": {
    "ExecuteTime": {
     "end_time": "2025-04-30T17:29:02.345765Z",
     "start_time": "2025-04-30T17:29:02.297446Z"
    }
   },
   "cell_type": "code",
   "source": "eval_functions.plot_confusion_matrix(actual,predicted,[\"disappointed\",\"happy\",\"angry\"])",
   "id": "a7ccc1d566d64ec3",
   "outputs": [
    {
     "data": {
      "text/plain": [
       "<Figure size 600x600 with 1 Axes>"
      ],
      "image/png": "[encoded data removed]"
     },
     "metadata": {},
     "output_type": "display_data"
    }
   ],
   "execution_count": 41
  },
  {
   "metadata": {
    "ExecuteTime": {
     "end_time": "2025-04-30T17:29:02.368534Z",
     "start_time": "2025-04-30T17:29:02.367317Z"
    }
   },
   "cell_type": "code",
   "source": "",
   "id": "4624cda6a84ef787",
   "outputs": [],
   "execution_count": null
  }
 ],
 "metadata": {
  "kernelspec": {
   "display_name": "Python 3",
   "language": "python",
   "name": "python3"
  },
  "language_info": {
   "codemirror_mode": {
    "name": "ipython",
    "version": 2
   },
   "file_extension": ".py",
   "mimetype": "text/x-python",
   "name": "python",
   "nbconvert_exporter": "python",
   "pygments_lexer": "ipython2",
   "version": "2.7.6"
  }
 },
 "nbformat": 4,
 "nbformat_minor": 5
}
